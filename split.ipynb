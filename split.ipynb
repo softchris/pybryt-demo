{
 "cells": [
  {
   "cell_type": "code",
   "execution_count": 4,
   "metadata": {},
   "outputs": [
    {
     "name": "stdout",
     "output_type": "stream",
     "text": [
      "Requirement already satisfied: pybryt in /usr/local/lib/python3.9/site-packages (0.3.0)\n",
      "Requirement already satisfied: click in /usr/local/lib/python3.9/site-packages (from pybryt) (8.0.3)\n",
      "Requirement already satisfied: dill in /usr/local/lib/python3.9/site-packages (from pybryt) (0.3.4)\n",
      "Requirement already satisfied: Cython in /usr/local/lib/python3.9/site-packages (from pybryt) (0.29.24)\n",
      "Requirement already satisfied: IPython in /Users/chnoring/Library/Python/3.9/lib/python/site-packages (from pybryt) (7.24.1)\n",
      "Requirement already satisfied: pandas in /usr/local/lib/python3.9/site-packages (from pybryt) (1.3.4)\n",
      "Requirement already satisfied: nbconvert in /usr/local/lib/python3.9/site-packages (from pybryt) (6.3.0)\n",
      "Requirement already satisfied: numpy in /usr/local/lib/python3.9/site-packages (from pybryt) (1.21.4)\n",
      "Requirement already satisfied: ipykernel in /Users/chnoring/Library/Python/3.9/lib/python/site-packages (from pybryt) (5.5.5)\n",
      "Requirement already satisfied: nbformat in /usr/local/lib/python3.9/site-packages (from pybryt) (5.1.3)\n",
      "Requirement already satisfied: astunparse in /usr/local/lib/python3.9/site-packages (from pybryt) (1.6.3)\n",
      "Requirement already satisfied: wheel<1.0,>=0.23.0 in /usr/local/lib/python3.9/site-packages (from astunparse->pybryt) (0.36.2)\n",
      "Requirement already satisfied: six<2.0,>=1.6.1 in /Users/chnoring/Library/Python/3.9/lib/python/site-packages (from astunparse->pybryt) (1.16.0)\n",
      "Requirement already satisfied: traitlets>=4.1.0 in /Users/chnoring/Library/Python/3.9/lib/python/site-packages (from ipykernel->pybryt) (5.0.5)\n",
      "Requirement already satisfied: jupyter-client in /Users/chnoring/Library/Python/3.9/lib/python/site-packages (from ipykernel->pybryt) (6.1.12)\n",
      "Requirement already satisfied: tornado>=4.2 in /Users/chnoring/Library/Python/3.9/lib/python/site-packages (from ipykernel->pybryt) (6.1)\n",
      "Requirement already satisfied: appnope in /Users/chnoring/Library/Python/3.9/lib/python/site-packages (from ipykernel->pybryt) (0.1.2)\n",
      "Requirement already satisfied: jedi>=0.16 in /Users/chnoring/Library/Python/3.9/lib/python/site-packages (from IPython->pybryt) (0.18.0)\n",
      "Requirement already satisfied: pygments in /Users/chnoring/Library/Python/3.9/lib/python/site-packages (from IPython->pybryt) (2.9.0)\n",
      "Requirement already satisfied: setuptools>=18.5 in /usr/local/lib/python3.9/site-packages (from IPython->pybryt) (53.0.0)\n",
      "Requirement already satisfied: backcall in /Users/chnoring/Library/Python/3.9/lib/python/site-packages (from IPython->pybryt) (0.2.0)\n",
      "Requirement already satisfied: prompt-toolkit!=3.0.0,!=3.0.1,<3.1.0,>=2.0.0 in /Users/chnoring/Library/Python/3.9/lib/python/site-packages (from IPython->pybryt) (3.0.18)\n",
      "Requirement already satisfied: matplotlib-inline in /Users/chnoring/Library/Python/3.9/lib/python/site-packages (from IPython->pybryt) (0.1.2)\n",
      "Requirement already satisfied: pickleshare in /Users/chnoring/Library/Python/3.9/lib/python/site-packages (from IPython->pybryt) (0.7.5)\n",
      "Requirement already satisfied: pexpect>4.3 in /Users/chnoring/Library/Python/3.9/lib/python/site-packages (from IPython->pybryt) (4.8.0)\n",
      "Requirement already satisfied: decorator in /Users/chnoring/Library/Python/3.9/lib/python/site-packages (from IPython->pybryt) (5.0.9)\n",
      "Requirement already satisfied: parso<0.9.0,>=0.8.0 in /Users/chnoring/Library/Python/3.9/lib/python/site-packages (from jedi>=0.16->IPython->pybryt) (0.8.2)\n",
      "Requirement already satisfied: ptyprocess>=0.5 in /Users/chnoring/Library/Python/3.9/lib/python/site-packages (from pexpect>4.3->IPython->pybryt) (0.7.0)\n",
      "Requirement already satisfied: wcwidth in /Users/chnoring/Library/Python/3.9/lib/python/site-packages (from prompt-toolkit!=3.0.0,!=3.0.1,<3.1.0,>=2.0.0->IPython->pybryt) (0.2.5)\n",
      "Requirement already satisfied: ipython-genutils in /Users/chnoring/Library/Python/3.9/lib/python/site-packages (from traitlets>=4.1.0->ipykernel->pybryt) (0.2.0)\n",
      "Requirement already satisfied: python-dateutil>=2.1 in /Users/chnoring/Library/Python/3.9/lib/python/site-packages (from jupyter-client->ipykernel->pybryt) (2.8.1)\n",
      "Requirement already satisfied: pyzmq>=13 in /Users/chnoring/Library/Python/3.9/lib/python/site-packages (from jupyter-client->ipykernel->pybryt) (22.1.0)\n",
      "Requirement already satisfied: jupyter-core>=4.6.0 in /Users/chnoring/Library/Python/3.9/lib/python/site-packages (from jupyter-client->ipykernel->pybryt) (4.7.1)\n",
      "Requirement already satisfied: jinja2>=2.4 in /usr/local/lib/python3.9/site-packages (from nbconvert->pybryt) (3.0.3)\n",
      "Requirement already satisfied: entrypoints>=0.2.2 in /usr/local/lib/python3.9/site-packages (from nbconvert->pybryt) (0.3)\n",
      "Requirement already satisfied: bleach in /usr/local/lib/python3.9/site-packages (from nbconvert->pybryt) (4.1.0)\n",
      "Requirement already satisfied: mistune<2,>=0.8.1 in /usr/local/lib/python3.9/site-packages (from nbconvert->pybryt) (0.8.4)\n",
      "Requirement already satisfied: jupyterlab-pygments in /usr/local/lib/python3.9/site-packages (from nbconvert->pybryt) (0.1.2)\n",
      "Requirement already satisfied: pandocfilters>=1.4.1 in /usr/local/lib/python3.9/site-packages (from nbconvert->pybryt) (1.5.0)\n",
      "Requirement already satisfied: defusedxml in /usr/local/lib/python3.9/site-packages (from nbconvert->pybryt) (0.7.1)\n",
      "Requirement already satisfied: nbclient<0.6.0,>=0.5.0 in /usr/local/lib/python3.9/site-packages (from nbconvert->pybryt) (0.5.9)\n",
      "Requirement already satisfied: testpath in /usr/local/lib/python3.9/site-packages (from nbconvert->pybryt) (0.5.0)\n",
      "Requirement already satisfied: MarkupSafe>=2.0 in /usr/local/lib/python3.9/site-packages (from jinja2>=2.4->nbconvert->pybryt) (2.0.1)\n",
      "Requirement already satisfied: nest-asyncio in /usr/local/lib/python3.9/site-packages (from nbclient<0.6.0,>=0.5.0->nbconvert->pybryt) (1.5.1)\n",
      "Requirement already satisfied: jsonschema!=2.5.0,>=2.4 in /usr/local/lib/python3.9/site-packages (from nbformat->pybryt) (4.2.1)\n",
      "Requirement already satisfied: pyrsistent!=0.17.0,!=0.17.1,!=0.17.2,>=0.14.0 in /usr/local/lib/python3.9/site-packages (from jsonschema!=2.5.0,>=2.4->nbformat->pybryt) (0.18.0)\n",
      "Requirement already satisfied: attrs>=17.4.0 in /usr/local/lib/python3.9/site-packages (from jsonschema!=2.5.0,>=2.4->nbformat->pybryt) (21.2.0)\n",
      "Requirement already satisfied: packaging in /usr/local/lib/python3.9/site-packages (from bleach->nbconvert->pybryt) (21.3)\n",
      "Requirement already satisfied: webencodings in /usr/local/lib/python3.9/site-packages (from bleach->nbconvert->pybryt) (0.5.1)\n",
      "Requirement already satisfied: pyparsing!=3.0.5,>=2.0.2 in /usr/local/lib/python3.9/site-packages (from packaging->bleach->nbconvert->pybryt) (3.0.6)\n",
      "Requirement already satisfied: pytz>=2017.3 in /usr/local/lib/python3.9/site-packages (from pandas->pybryt) (2021.3)\n",
      "\u001b[33mWARNING: You are using pip version 21.0.1; however, version 21.3.1 is available.\n",
      "You should consider upgrading via the '/usr/local/opt/python@3.9/bin/python3.9 -m pip install --upgrade pip' command.\u001b[0m\n"
     ]
    }
   ],
   "source": [
    "! python3 -m pip install pybryt\n",
    "import pybryt"
   ]
  },
  {
   "cell_type": "code",
   "execution_count": 5,
   "metadata": {},
   "outputs": [],
   "source": [
    "def count_words(str = \"\"):\n",
    "  arr = str.split(\" \")\n",
    "  pybryt.Value(arr)\n",
    "  length = len(arr)\n",
    "  pybryt.Value(length)\n",
    "  return length"
   ]
  },
  {
   "cell_type": "code",
   "execution_count": 6,
   "metadata": {},
   "outputs": [
    {
     "data": {
      "text/plain": [
       "2"
      ]
     },
     "execution_count": 6,
     "metadata": {},
     "output_type": "execute_result"
    }
   ],
   "source": [
    "result = count_words(\"hi there\")\n",
    "result"
   ]
  },
  {
   "cell_type": "code",
   "execution_count": 7,
   "metadata": {},
   "outputs": [
    {
     "data": {
      "text/plain": [
       "pybryt.Value"
      ]
     },
     "execution_count": 7,
     "metadata": {},
     "output_type": "execute_result"
    }
   ],
   "source": [
    "pybryt.Value(count_words(\"abc 123\") == 2, success_message=\"correctly counted words\", failure_message=\"incorrect count of words\")"
   ]
  }
 ],
 "metadata": {
  "interpreter": {
   "hash": "aee8b7b246df8f9039afb4144a1f6fd8d2ca17a180786b69acc140d282b71a49"
  },
  "kernelspec": {
   "display_name": "Python 3.9.2 64-bit",
   "language": "python",
   "name": "python3"
  },
  "language_info": {
   "codemirror_mode": {
    "name": "ipython",
    "version": 3
   },
   "file_extension": ".py",
   "mimetype": "text/x-python",
   "name": "python",
   "nbconvert_exporter": "python",
   "pygments_lexer": "ipython3",
   "version": "3.9.2"
  },
  "orig_nbformat": 4
 },
 "nbformat": 4,
 "nbformat_minor": 2
}
