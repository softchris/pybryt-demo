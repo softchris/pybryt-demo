{
 "cells": [
  {
   "cell_type": "code",
   "execution_count": 99,
   "metadata": {},
   "outputs": [],
   "source": [
    "import pybryt"
   ]
  },
  {
   "cell_type": "code",
   "execution_count": 100,
   "metadata": {},
   "outputs": [],
   "source": [
    "ref = pybryt.ReferenceImplementation.compile(\"split.ipynb\")\n",
    "ref.dump()"
   ]
  },
  {
   "cell_type": "markdown",
   "metadata": {},
   "source": [
    "load submissions"
   ]
  },
  {
   "cell_type": "code",
   "execution_count": 101,
   "metadata": {},
   "outputs": [
    {
     "data": {
      "text/plain": [
       "['solutions/1.ipynb']"
      ]
     },
     "execution_count": 101,
     "metadata": {},
     "output_type": "execute_result"
    }
   ],
   "source": [
    "from glob import glob\n",
    "subms = sorted(glob(\"solutions/*.ipynb\"))\n",
    "subms"
   ]
  },
  {
   "cell_type": "markdown",
   "metadata": {},
   "source": [
    "create student implementations"
   ]
  },
  {
   "cell_type": "code",
   "execution_count": 102,
   "metadata": {},
   "outputs": [
    {
     "data": {
      "text/plain": [
       "[<pybryt.student.StudentImplementation at 0x123e91f10>]"
      ]
     },
     "execution_count": 102,
     "metadata": {},
     "output_type": "execute_result"
    }
   ],
   "source": [
    "student_impls = []\n",
    "for subm in subms:\n",
    "    student_impls.append(pybryt.StudentImplementation(subm))\n",
    "\n",
    "student_impls"
   ]
  },
  {
   "cell_type": "markdown",
   "metadata": {},
   "source": [
    "check solutions calling `check()`"
   ]
  },
  {
   "cell_type": "code",
   "execution_count": 103,
   "metadata": {},
   "outputs": [
    {
     "data": {
      "text/plain": [
       "[ReferenceResult([\n",
       "   AnnotationResult(satisfied=False, annotation=pybryt.Value),\n",
       "   AnnotationResult(satisfied=True, annotation=pybryt.Value),\n",
       "   AnnotationResult(satisfied=True, annotation=pybryt.Value),\n",
       "   AnnotationResult(satisfied=True, annotation=pybryt.Value),\n",
       "   AnnotationResult(satisfied=True, annotation=pybryt.Value)\n",
       " ])]"
      ]
     },
     "execution_count": 103,
     "metadata": {},
     "output_type": "execute_result"
    }
   ],
   "source": [
    "results = []\n",
    "for si in student_impls:\n",
    "    results.append(si.check(ref))\n",
    "\n",
    "results"
   ]
  },
  {
   "cell_type": "code",
   "execution_count": 104,
   "metadata": {},
   "outputs": [
    {
     "name": "stdout",
     "output_type": "stream",
     "text": [
      "SUBMISSION: solutions/1.ipynb\n",
      "  SATISFIED: False\n",
      "  MESSAGES:\n",
      "    - Array looks wrong\n",
      "    - No of words is good\n",
      "    - Array of words looks good\n",
      "    - No of words is good\n",
      "    - correctly counted words\n",
      "\n",
      "\n"
     ]
    }
   ],
   "source": [
    "from textwrap import indent\n",
    "for sp, res in zip(subms, results):\n",
    "    print(f\"SUBMISSION: {sp}\")\n",
    "    # res.messages is a list of messages returned by the reference during grading\n",
    "    messages = \"\\n\".join(res.messages) \n",
    "    \n",
    "    # res.correct is a boolean for whether the reference was satisfied\n",
    "    message = f\"SATISFIED: {res.correct}\\nMESSAGES:\\n{indent(messages, '  - ')}\"\n",
    "    \n",
    "    # some pretty-printing\n",
    "    print(indent(message, \"  \"))\n",
    "    print(\"\\n\")"
   ]
  }
 ],
 "metadata": {
  "interpreter": {
   "hash": "aee8b7b246df8f9039afb4144a1f6fd8d2ca17a180786b69acc140d282b71a49"
  },
  "kernelspec": {
   "display_name": "Python 3.9.2 64-bit",
   "language": "python",
   "name": "python3"
  },
  "language_info": {
   "codemirror_mode": {
    "name": "ipython",
    "version": 3
   },
   "file_extension": ".py",
   "mimetype": "text/x-python",
   "name": "python",
   "nbconvert_exporter": "python",
   "pygments_lexer": "ipython3",
   "version": "3.9.2"
  },
  "orig_nbformat": 4
 },
 "nbformat": 4,
 "nbformat_minor": 2
}
