{
 "cells": [
  {
   "cell_type": "code",
   "execution_count": 36,
   "metadata": {},
   "outputs": [],
   "source": [
    "import pybryt"
   ]
  },
  {
   "cell_type": "code",
   "execution_count": 37,
   "metadata": {},
   "outputs": [],
   "source": [
    "ref = pybryt.ReferenceImplementation.compile(\"split.ipynb\")\n",
    "ref.dump()"
   ]
  },
  {
   "cell_type": "markdown",
   "metadata": {},
   "source": [
    "load submissions"
   ]
  },
  {
   "cell_type": "code",
   "execution_count": 38,
   "metadata": {},
   "outputs": [
    {
     "data": {
      "text/plain": [
       "['solutions/split.ipynb']"
      ]
     },
     "execution_count": 38,
     "metadata": {},
     "output_type": "execute_result"
    }
   ],
   "source": [
    "from glob import glob\n",
    "subms = sorted(glob(\"solutions/*.ipynb\"))\n",
    "subms"
   ]
  },
  {
   "cell_type": "markdown",
   "metadata": {},
   "source": [
    "create student implementations"
   ]
  },
  {
   "cell_type": "code",
   "execution_count": 39,
   "metadata": {},
   "outputs": [
    {
     "data": {
      "text/plain": [
       "[<pybryt.student.StudentImplementation at 0x12366d610>]"
      ]
     },
     "execution_count": 39,
     "metadata": {},
     "output_type": "execute_result"
    }
   ],
   "source": [
    "student_impls = []\n",
    "for subm in subms:\n",
    "    student_impls.append(pybryt.StudentImplementation(subm))\n",
    "\n",
    "student_impls"
   ]
  },
  {
   "cell_type": "markdown",
   "metadata": {},
   "source": [
    "check solutions calling `check()`"
   ]
  },
  {
   "cell_type": "code",
   "execution_count": 40,
   "metadata": {},
   "outputs": [
    {
     "data": {
      "text/plain": [
       "[ReferenceResult([\n",
       "   AnnotationResult(satisfied=False, annotation=pybryt.Value),\n",
       "   AnnotationResult(satisfied=False, annotation=pybryt.Value),\n",
       "   AnnotationResult(satisfied=False, annotation=pybryt.Value),\n",
       "   AnnotationResult(satisfied=False, annotation=pybryt.Value),\n",
       "   AnnotationResult(satisfied=False, annotation=pybryt.Value)\n",
       " ])]"
      ]
     },
     "execution_count": 40,
     "metadata": {},
     "output_type": "execute_result"
    }
   ],
   "source": [
    "results = []\n",
    "for si in student_impls:\n",
    "    results.append(si.check(ref))\n",
    "\n",
    "results"
   ]
  }
 ],
 "metadata": {
  "interpreter": {
   "hash": "aee8b7b246df8f9039afb4144a1f6fd8d2ca17a180786b69acc140d282b71a49"
  },
  "kernelspec": {
   "display_name": "Python 3.9.2 64-bit",
   "language": "python",
   "name": "python3"
  },
  "language_info": {
   "codemirror_mode": {
    "name": "ipython",
    "version": 3
   },
   "file_extension": ".py",
   "mimetype": "text/x-python",
   "name": "python",
   "nbconvert_exporter": "python",
   "pygments_lexer": "ipython3",
   "version": "3.9.2"
  },
  "orig_nbformat": 4
 },
 "nbformat": 4,
 "nbformat_minor": 2
}
